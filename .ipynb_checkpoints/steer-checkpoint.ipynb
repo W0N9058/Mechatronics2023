{
 "cells": [
  {
   "cell_type": "code",
   "execution_count": null,
   "id": "981daf89",
   "metadata": {},
   "outputs": [],
   "source": [
    "asdas"
   ]
  }
 ],
 "metadata": {
  "kernelspec": {
   "display_name": "W0N",
   "language": "python",
   "name": "rigel"
  },
  "language_info": {
   "codemirror_mode": {
    "name": "ipython",
    "version": 3
   },
   "file_extension": ".py",
   "mimetype": "text/x-python",
   "name": "python",
   "nbconvert_exporter": "python",
   "pygments_lexer": "ipython3",
   "version": "3.11.5"
  }
 },
 "nbformat": 4,
 "nbformat_minor": 5
}
